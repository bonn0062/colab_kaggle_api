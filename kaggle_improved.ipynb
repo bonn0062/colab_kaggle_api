{
  "nbformat": 4,
  "nbformat_minor": 0,
  "metadata": {
    "colab": {
      "name": "kaggle_improved.ipynb",
      "version": "0.3.2",
      "provenance": []
    },
    "kernelspec": {
      "name": "python3",
      "display_name": "Python 3"
    }
  },
  "cells": [
    {
      "metadata": {
        "id": "1hYp7NHzRX7V",
        "colab_type": "code",
        "colab": {
          "base_uri": "https://localhost:8080/",
          "height": 224
        },
        "outputId": "c7586360-4f2c-4c66-957b-d37cf0b40205"
      },
      "cell_type": "code",
      "source": [
        "!pip install kaggle"
      ],
      "execution_count": 13,
      "outputs": [
        {}
      ]
    },
    {
      "metadata": {
        "id": "nLAWj8zJSS_Q",
        "colab_type": "code",
        "colab": {
          "base_uri": "https://localhost:8080/",
          "height": 34
        },
        "outputId": "7e508633-2f9e-447c-9bfd-cc2783702661"
      },
      "cell_type": "code",
      "source": [
        "!mkdir .kaggle"
      ],
      "execution_count": 14,
      "outputs": [
        {}
      ]
    },
    {
      "metadata": {
        "id": "gMYwSTlaSYi2",
        "colab_type": "code",
        "colab": {}
      },
      "cell_type": "code",
      "source": [
        "import json\n",
        "token = {\"username\":\"YOUR-USERNAME\",\"key\":\"SOME-LONG-NUMBER-STRING\"}\n",
        "with open('/content/.kaggle/kaggle.json', 'w') as file:\n",
        "    json.dump(token, file)"
      ],
      "execution_count": 0,
      "outputs": []
    },
    {
      "metadata": {
        "id": "x3KGdrD6S3Px",
        "colab_type": "code",
        "colab": {}
      },
      "cell_type": "code",
      "source": [
        "!cp /content/.kaggle/kaggle.json ~/.kaggle/kaggle.json"
      ],
      "execution_count": 0,
      "outputs": []
    },
    {
      "metadata": {
        "id": "AOpmxsctTDzg",
        "colab_type": "code",
        "colab": {
          "base_uri": "https://localhost:8080/",
          "height": 34
        },
        "outputId": "20d2cd76-30f3-4f74-dc09-57b7f0688332"
      },
      "cell_type": "code",
      "source": [
        "!kaggle config set -n path -v{/content}"
      ],
      "execution_count": 17,
      "outputs": [
        {
          "output_type": "stream",
          "text": [
            "- path is now set to: {/content}\n"
          ],
          "name": "stdout"
        }
      ]
    },
    {
      "metadata": {
        "id": "tlDefmviTQQ9",
        "colab_type": "code",
        "colab": {
          "base_uri": "https://localhost:8080/",
          "height": 411
        },
        "outputId": "1ced8091-a93f-47f4-fc5c-248bbb89fd68"
      },
      "cell_type": "code",
      "source": [
        "!kaggle datasets list"
      ],
      "execution_count": 18,
      "outputs": [
        {
          "output_type": "stream",
          "text": [
            "ref                                                           title                                                size  lastUpdated          downloadCount  \n",
            "------------------------------------------------------------  --------------------------------------------------  -----  -------------------  -------------  \n",
            "spscientist/students-performance-in-exams                     Students Performance in Exams                         8KB  2018-11-09 18:25:25           8927  \n",
            "mehdidag/black-friday                                         Black Friday                                          5MB  2018-07-25 20:49:48          23678  \n",
            "szamil/who-suicide-statistics                                 WHO Suicide Statistics                              307KB  2018-08-29 21:23:11           6233  \n",
            "iarunava/happy-house-dataset                                  Happy House Dataset                                   7MB  2018-09-07 06:33:10           1595  \n",
            "kaggle/kaggle-survey-2018                                     2018 Kaggle ML & DS Survey Challenge                  4MB  2018-11-03 22:35:07           6697  \n",
            "sid321axn/amazon-alexa-reviews                                Amazon Alexa Reviews                                164KB  2018-07-31 17:45:14           1271  \n",
            "unitednations/un-general-debates                              UN General Debates                                   46MB  2017-09-05 23:12:36            822  \n",
            "lava18/google-play-store-apps                                 Google Play Store Apps                                2MB  2018-09-18 20:49:49          28803  \n",
            "jessicali9530/kuc-hackathon-winter-2018                       UCI ML Drug Review dataset                           40MB  2018-11-12 19:44:19            501  \n",
            "jrobischon/wikipedia-movie-plots                              Wikipedia Movie Plots                                30MB  2018-10-15 19:59:54           1283  \n",
            "footprintnetwork/national-footprint-accounts-2018             National Footprint Accounts 2018                      3MB  2018-07-11 18:26:33           1059  \n",
            "robikscube/hourly-energy-consumption                          Hourly Energy Consumption                            11MB  2018-08-30 14:17:03           2528  \n",
            "jkkphys/english-wikipedia-articles-20170820-sqlite            English Wikipedia Articles 2017-08-20 SQLite          7GB  2018-11-27 21:54:22            179  \n",
            "nguyenhoc/plane-crash                                         Historical Plane Crashes                            700KB  2018-11-21 04:32:41           1355  \n",
            "thedownhill/art-images-drawings-painting-sculpture-engraving  Art Images: Drawing/Painting/Sculptures/Engravings  581MB  2018-05-25 18:00:50           1062  \n",
            "cityofLA/los-angeles-international-airport-data               Los Angeles International Airport Data              123KB  2018-12-29 22:04:02           1258  \n",
            "olistbr/marketing-funnel-olist                                Marketing Funnel by Olist                           275KB  2018-11-16 14:00:20            389  \n",
            "huffingtonpost/pollster-congressional-districts               Pollster Congressional Districts                    530KB  2018-11-07 04:49:42            104  \n",
            "septa97/100k-courseras-course-reviews-dataset                 100K Coursera's Course Reviews Dataset               12MB  2018-08-02 03:44:18            876  \n",
            "danofer/sarcasm                                               Sarcasm on Reddit                                   216MB  2018-05-27 08:19:04           1398  \n"
          ],
          "name": "stdout"
        }
      ]
    },
    {
      "metadata": {
        "id": "rsEScFUmTqlc",
        "colab_type": "code",
        "colab": {}
      },
      "cell_type": "code",
      "source": [
        "!chmod 600 /content/.kaggle/kaggle.json"
      ],
      "execution_count": 0,
      "outputs": []
    },
    {
      "metadata": {
        "id": "AnXysBvKTuJQ",
        "colab_type": "code",
        "colab": {
          "base_uri": "https://localhost:8080/",
          "height": 411
        },
        "outputId": "06525aaf-fb9f-4980-80d1-44266fd97902"
      },
      "cell_type": "code",
      "source": [
        "!kaggle datasets list -s sentiment"
      ],
      "execution_count": 20,
      "outputs": [
        {
          "output_type": "stream",
          "text": [
            "ref                                                title                                           size  lastUpdated          downloadCount  \n",
            "-------------------------------------------------  --------------------------------------------  ------  -------------------  -------------  \n",
            "tentotheminus9/religious-and-philosophical-texts   Religious and philosophical texts                3MB  2016-09-07 12:36:01           1303  \n",
            "crowdflower/twitter-airline-sentiment              Twitter US Airline Sentiment                     3MB  2016-10-06 03:11:23          18540  \n",
            "kazanova/sentiment140                              Sentiment140 dataset with 1.6 million tweets    84MB  2017-09-13 22:43:19           5750  \n",
            "harriken/bias-media-cat                            Bias Media CAT                                  18MB  2017-10-27 22:46:25            208  \n",
            "purvank/uber-rider-reviews-dataset                 Uber Ride Reviews Dataset                      214KB  2017-11-16 07:49:40            488  \n",
            "yuhaowang/moviesentimentanalysis                   movie-sentiment-analysis                        52MB  2017-11-19 19:55:08            105  \n",
            "huseinzol05/twitter-political-sentiment-in-bahasa  Twitter Political Sentiment in Bahasa           18KB  2018-04-11 08:13:39             30  \n",
            "weywenn/sentiment-analysis-multilanguage           Sentiment analysis multi-language               28KB  2018-04-13 06:22:17             30  \n",
            "harinav009/sentiment-analysis-of-tweetshar         Sentiment analysis of tweetshar                354KB  2018-06-09 10:38:24             18  \n",
            "bharath5673/sentiment-analysis                     sentiment analysis                              16MB  2018-08-07 08:43:18             30  \n",
            "worldboss1/sentimentsona2018                       sentiment-sona2018                              42KB  2018-08-19 20:40:43              4  \n",
            "dosonl/comments-from-funding-platform              sentiment analysis from funding platform        19MB  2018-08-21 06:37:03             26  \n",
            "mortena/fb-sentiment                               Fb sentiment                                    47KB  2018-11-07 12:53:31             14  \n",
            "sonaam1234/sentimentdata                           Sentiment Analysis Dataset                    1013KB  2016-11-26 16:26:05           1240  \n",
            "cjroth/chronist                                    Emotion, Aging, and Sentiment Over Time         13MB  2017-02-12 22:44:03            999  \n",
            "thaisalmeida/tips-foursquare                       Foursquare Tips                                  7MB  2017-02-25 21:07:58             87  \n",
            "bittlingmayer/amazonreviews                        Amazon Reviews for Sentiment Analysis          493MB  2017-05-24 13:05:13          10162  \n",
            "nltkdata/opinion-lexicon                           Opinion Lexicon                                 24KB  2017-08-21 02:41:27            168  \n",
            "nltkdata/sentence-polarity                         Sentence Polarity Dataset v1.0                 505KB  2017-08-21 03:45:39            150  \n",
            "kaushik3497/imdb-sentiment-analysis                IMDB Sentiment Analysis                         26MB  2017-11-30 11:34:54            172  \n"
          ],
          "name": "stdout"
        }
      ]
    },
    {
      "metadata": {
        "id": "6cowfW_CTxDg",
        "colab_type": "code",
        "colab": {}
      },
      "cell_type": "code",
      "source": [
        "!chmod 600 /root/.kaggle/kaggle.json"
      ],
      "execution_count": 0,
      "outputs": []
    },
    {
      "metadata": {
        "id": "8mHkYTGdT1v_",
        "colab_type": "code",
        "colab": {}
      },
      "cell_type": "code",
      "source": [
        ""
      ],
      "execution_count": 0,
      "outputs": []
    }
  ]
}
